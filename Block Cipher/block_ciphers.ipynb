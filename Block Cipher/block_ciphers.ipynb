{
 "cells": [
  {
   "cell_type": "markdown",
   "metadata": {},
   "source": [
    "CPE-321: Intro to Computer Security \\\n",
    "Assignment: Symmetric Key Cryptography Implementation \\\n",
    "By: Justin Youn & Max Mohammadi \n",
    "\n",
    "# Objectives\n",
    "\n",
    "*  To explore symmetric key cryptography security with different modes\n",
    "    * Electronic Codebook Mode (ECB)\n",
    "    * Cipher Block Chaining Mode (CBC)\n",
    "* Explore the limits of block ciphers in their use\n",
    "* Performance Study of Public/Symmetric key Algorithms\n",
    "\n",
    "\n",
    "AES primitive is used to encrypt each block, but we don't need to implement the encryption, just need to call the encrypt function (from Crypto.Cipher import AES) on each block.\n",
    "\n"
   ]
  },
  {
   "cell_type": "code",
   "execution_count": 1,
   "metadata": {},
   "outputs": [
    {
     "name": "stdout",
     "output_type": "stream",
     "text": [
      "Collecting pycrypto\n",
      "  Downloading pycrypto-2.6.1.tar.gz (446 kB)\n",
      "\u001b[K     |████████████████████████████████| 446 kB 3.7 MB/s eta 0:00:01\n",
      "\u001b[?25hBuilding wheels for collected packages: pycrypto\n",
      "  Building wheel for pycrypto (setup.py) ... \u001b[?25ldone\n",
      "\u001b[?25h  Created wheel for pycrypto: filename=pycrypto-2.6.1-cp38-cp38-macosx_10_9_x86_64.whl size=487547 sha256=f73b8ada57f17e36709ab2bcd040e6b09af97cd460f4f6381806d17e2ed15fa3\n",
      "  Stored in directory: /Users/maxmohammadi/Library/Caches/pip/wheels/d0/99/d0/0298ea019d63f1d63a0965b9944b719e875f9bd6ffc6dcf293\n",
      "Successfully built pycrypto\n",
      "Installing collected packages: pycrypto\n",
      "Successfully installed pycrypto-2.6.1\n",
      "Note: you may need to restart the kernel to use updated packages.\n"
     ]
    }
   ],
   "source": [
    "pip install pycrypto"
   ]
  },
  {
   "cell_type": "code",
   "execution_count": 3,
   "metadata": {},
   "outputs": [
    {
     "name": "stdout",
     "output_type": "stream",
     "text": [
      "Collecting pycryptodome\n",
      "  Downloading pycryptodome-3.10.1-cp35-abi3-macosx_10_9_x86_64.whl (1.5 MB)\n",
      "\u001b[K     |████████████████████████████████| 1.5 MB 3.9 MB/s eta 0:00:01\n",
      "\u001b[?25hInstalling collected packages: pycryptodome\n",
      "Successfully installed pycryptodome-3.10.1\n",
      "Note: you may need to restart the kernel to use updated packages.\n"
     ]
    }
   ],
   "source": [
    "pip install pycryptodome"
   ]
  },
  {
   "cell_type": "markdown",
   "metadata": {},
   "source": [
    "## Task 1: Modes of Operation\n",
    "\n",
    "1. Process plaintext file\n",
    "2. Generate a random key (IV for CBC implementation)\n",
    "3. Write the encryption of plaintext in new file\n",
    "\n",
    "Encrypt the BMP files using both EBC and CBC implementations to create two ciphertexts"
   ]
  },
  {
   "cell_type": "markdown",
   "metadata": {},
   "source": [
    "TODO: Study and learn AES ECB and CBC methods https://en.wikipedia.org/wiki/Block_cipher_mode_of_operation\n",
    "\n",
    "TODO: Analyze the BMP image with the Pillow Python framework - https://stackoverflow.com/questions/20276458/working-with-bmp-files-in-python-3\n",
    "\n",
    "TODO: Look at modes of operation implementations https://github.com/ricmoo/pyaes\n",
    "\n",
    "TODO: Write pseudocode for Task 1"
   ]
  },
  {
   "cell_type": "code",
   "execution_count": null,
   "metadata": {},
   "outputs": [],
   "source": []
  }
 ],
 "metadata": {
  "kernelspec": {
   "display_name": "Python 3",
   "language": "python",
   "name": "python3"
  },
  "language_info": {
   "codemirror_mode": {
    "name": "ipython",
    "version": 3
   },
   "file_extension": ".py",
   "mimetype": "text/x-python",
   "name": "python",
   "nbconvert_exporter": "python",
   "pygments_lexer": "ipython3",
   "version": "3.8.5"
  }
 },
 "nbformat": 4,
 "nbformat_minor": 4
}
